{
 "cells": [
  {
   "cell_type": "code",
   "execution_count": 1,
   "metadata": {},
   "outputs": [
    {
     "name": "stdout",
     "output_type": "stream",
     "text": [
      "\n",
      "The first 10 tokens are:\n",
      " ['plot', 'two', 'teen', 'couples', 'go', 'to', 'a', 'church', 'party', 'drink']\n"
     ]
    }
   ],
   "source": [
    "import nltk\n",
    "from nltk.corpus import movie_reviews\n",
    "from nltk import word_tokenize\n",
    "\n",
    "nltk.download('movie_reviews', quiet=True)\n",
    "\n",
    "# Load the first movie review\n",
    "review_text = movie_reviews.raw(movie_reviews.fileids()[0])\n",
    "\n",
    "# Apply tokenization on the review\n",
    "tokenized_review = word_tokenize(review_text)\n",
    "\n",
    "# Should keep only word tokens\n",
    "current_tokens = [token for token in tokenized_review if token.isalpha()]\n",
    "\n",
    "# Print the first 10 tokens\n",
    "print(\"\\nThe first 10 tokens are:\\n\", current_tokens[:10])"
   ]
  },
  {
   "cell_type": "code",
   "execution_count": null,
   "metadata": {},
   "outputs": [],
   "source": [
    "from nltk import word_tokenize\n",
    "\n",
    "# Given text\n",
    "text = \"Who doesn't enjoy studying Feature Engineering for Text Classification?\"\n",
    "\n",
    "# Tokenize the text\n",
    "tokens = word_tokenize(text)\n",
    "\n",
    "# Filter out the words\n",
    "words = [token for token in tokens if token.isalpha()]\n",
    "\n",
    "print(\"\\n Word Tokens:\\n\", words)"
   ]
  }
 ],
 "metadata": {
  "kernelspec": {
   "display_name": "base",
   "language": "python",
   "name": "python3"
  },
  "language_info": {
   "codemirror_mode": {
    "name": "ipython",
    "version": 3
   },
   "file_extension": ".py",
   "mimetype": "text/x-python",
   "name": "python",
   "nbconvert_exporter": "python",
   "pygments_lexer": "ipython3",
   "version": "3.11.7"
  }
 },
 "nbformat": 4,
 "nbformat_minor": 2
}
