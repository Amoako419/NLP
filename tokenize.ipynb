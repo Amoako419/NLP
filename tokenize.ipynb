{
 "cells": [
  {
   "cell_type": "code",
   "execution_count": 1,
   "metadata": {},
   "outputs": [
    {
     "name": "stdout",
     "output_type": "stream",
     "text": [
      "\n",
      "The first 10 tokens are:\n",
      " ['plot', 'two', 'teen', 'couples', 'go', 'to', 'a', 'church', 'party', 'drink']\n"
     ]
    }
   ],
   "source": [
    "import nltk\n",
    "from nltk.corpus import movie_reviews\n",
    "from nltk import word_tokenize\n",
    "\n",
    "nltk.download('movie_reviews', quiet=True)\n",
    "\n",
    "# Load the first movie review\n",
    "review_text = movie_reviews.raw(movie_reviews.fileids()[0])\n",
    "\n",
    "# Apply tokenization on the review\n",
    "tokenized_review = word_tokenize(review_text)\n",
    "\n",
    "# Should keep only word tokens\n",
    "current_tokens = [token for token in tokenized_review if token.isalpha()]\n",
    "\n",
    "# Print the first 10 tokens\n",
    "print(\"\\nThe first 10 tokens are:\\n\", current_tokens[:10])"
   ]
  },
  {
   "cell_type": "code",
   "execution_count": 2,
   "metadata": {},
   "outputs": [
    {
     "name": "stdout",
     "output_type": "stream",
     "text": [
      "\n",
      " Word Tokens:\n",
      " ['Who', 'does', 'enjoy', 'studying', 'Feature', 'Engineering', 'for', 'Text', 'Classification']\n"
     ]
    }
   ],
   "source": [
    "from nltk import word_tokenize\n",
    "\n",
    "# Given text\n",
    "text = \"Who doesn't enjoy studying Feature Engineering for Text Classification?\"\n",
    "\n",
    "# Tokenize the text\n",
    "tokens = word_tokenize(text)\n",
    "\n",
    "# Filter out the words\n",
    "words = [token for token in tokens if token.isalpha()]\n",
    "\n",
    "print(\"\\n Word Tokens:\\n\", words)"
   ]
  },
  {
   "cell_type": "code",
   "execution_count": 28,
   "metadata": {},
   "outputs": [
    {
     "name": "stdout",
     "output_type": "stream",
     "text": [
      "2000\n",
      "1\n",
      "\n",
      "Sentiment of the first review: neg\n",
      "\n",
      "First 10 word tokens of the first review:\n",
      " ['when', 'it', 'comes', 'to', 'the', 'average', 'teenage', 'romantic', 'comedy', 'i', 'expect', 'negative', 'reviews', 'from', 'critics', 'left', 'and', 'right', 'predictable']\n"
     ]
    }
   ],
   "source": [
    "import nltk\n",
    "from nltk.corpus import movie_reviews \n",
    "from nltk import word_tokenize \n",
    "\n",
    "# nltk.download('movie_reviews', quiet=True)\n",
    "\n",
    "# Fetch the first movie review and its sentiment label\n",
    "first_review_id = movie_reviews.fileids()[45]\n",
    "review_text = movie_reviews.raw(first_review_id) \n",
    "review_sentiment = first_review_id.split('/')[0] \n",
    "print(len(movie_reviews.fileids()))\n",
    "print(len(first_review_id.split()))\n",
    "\n",
    "\n",
    "# TODO: Apply tokenization on the review \n",
    "tokens = word_tokenize(review_text)\n",
    "# TODO: Filter out the punctuation, keeping only word tokens \n",
    "words = [token for token in tokens if token.isalpha()]\n",
    "\n",
    "# Print the sentiment label and the first 10 word tokens \n",
    "print(f\"\\nSentiment of the first review: {review_sentiment}\")\n",
    "print(f\"\\nFirst 10 word tokens of the first review:\\n\", words[:19]) "
   ]
  }
 ],
 "metadata": {
  "kernelspec": {
   "display_name": "base",
   "language": "python",
   "name": "python3"
  },
  "language_info": {
   "codemirror_mode": {
    "name": "ipython",
    "version": 3
   },
   "file_extension": ".py",
   "mimetype": "text/x-python",
   "name": "python",
   "nbconvert_exporter": "python",
   "pygments_lexer": "ipython3",
   "version": "3.11.7"
  }
 },
 "nbformat": 4,
 "nbformat_minor": 2
}
