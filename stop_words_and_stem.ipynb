{
 "cells": [
  {
   "cell_type": "code",
   "execution_count": 2,
   "metadata": {},
   "outputs": [
    {
     "name": "stdout",
     "output_type": "stream",
     "text": [
      "Original Text: This is a example text to demonstrate the removal of stop words and stemming.\n",
      "Processed Text: thi exampl text demonstr remov stop word stem .\n"
     ]
    }
   ],
   "source": [
    "from nltk.corpus import stopwords\n",
    "from nltk.stem import PorterStemmer\n",
    "from nltk.tokenize import word_tokenize\n",
    "\n",
    "# Defining the stop words\n",
    "stop_words = set(stopwords.words('english'))\n",
    "\n",
    "# Creating an instance of LancasterStemmer\n",
    "stemmer = PorterStemmer()\n",
    "\n",
    "def remove_stopwords_and_stem(text):\n",
    "    tokenized_text = word_tokenize(text)\n",
    "    filtered_text = [stemmer.stem(word) for word in tokenized_text if not word in stop_words]\n",
    "    return \" \".join(filtered_text)\n",
    "\n",
    "example_text = \"This is a example text to demonstrate the removal of stop words and stemming.\"\n",
    "processed_text = remove_stopwords_and_stem(example_text)\n",
    "print(f\"Original Text: {example_text}\")\n",
    "print(f\"Processed Text: {processed_text}\")"
   ]
  },
  {
   "cell_type": "code",
   "execution_count": null,
   "metadata": {},
   "outputs": [],
   "source": [
    "from nltk.stem import PorterStemmer\n",
    "\n",
    "# List of sample words\n",
    "example_words = [\"connection\", \"connections\", \"connective\", \"connected\", \"connecting\", \"connection\"]\n",
    "\n",
    "# Create object of the Porter Stemmer Class\n",
    "stemmer = PorterStemmer()\n",
    "\n",
    "# Stem each word in the list of words\n",
    "stemmed_words = [stemmer.stem(word) for word in example_words]\n",
    "\n",
    "print(\"Stemmed words: \", stemmed_words)"
   ]
  }
 ],
 "metadata": {
  "kernelspec": {
   "display_name": "base",
   "language": "python",
   "name": "python3"
  },
  "language_info": {
   "codemirror_mode": {
    "name": "ipython",
    "version": 3
   },
   "file_extension": ".py",
   "mimetype": "text/x-python",
   "name": "python",
   "nbconvert_exporter": "python",
   "pygments_lexer": "ipython3",
   "version": "3.11.7"
  }
 },
 "nbformat": 4,
 "nbformat_minor": 2
}
