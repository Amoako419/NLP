{
 "cells": [
  {
   "cell_type": "code",
   "execution_count": 2,
   "metadata": {},
   "outputs": [
    {
     "name": "stdout",
     "output_type": "stream",
     "text": [
      "Original Text: This is a example text to demonstrate the removal of stop words and stemming.\n",
      "Processed Text: thi exampl text demonstr remov stop word stem .\n"
     ]
    }
   ],
   "source": [
    "from nltk.corpus import stopwords\n",
    "from nltk.stem import PorterStemmer\n",
    "from nltk.tokenize import word_tokenize\n",
    "\n",
    "# Defining the stop words\n",
    "stop_words = set(stopwords.words('english'))\n",
    "\n",
    "# Creating an instance of LancasterStemmer\n",
    "stemmer = PorterStemmer()\n",
    "\n",
    "def remove_stopwords_and_stem(text):\n",
    "    tokenized_text = word_tokenize(text)\n",
    "    filtered_text = [stemmer.stem(word) for word in tokenized_text if not word in stop_words]\n",
    "    return \" \".join(filtered_text)\n",
    "\n",
    "example_text = \"This is a example text to demonstrate the removal of stop words and stemming.\"\n",
    "processed_text = remove_stopwords_and_stem(example_text)\n",
    "print(f\"Original Text: {example_text}\")\n",
    "print(f\"Processed Text: {processed_text}\")"
   ]
  },
  {
   "cell_type": "code",
   "execution_count": 3,
   "metadata": {},
   "outputs": [
    {
     "name": "stdout",
     "output_type": "stream",
     "text": [
      "Stemmed words:  ['connect', 'connect', 'connect', 'connect', 'connect', 'connect']\n"
     ]
    }
   ],
   "source": [
    "from nltk.stem import PorterStemmer\n",
    "\n",
    "# List of sample words\n",
    "example_words = [\"connection\", \"connections\", \"connective\", \"connected\", \"connecting\", \"connection\"]\n",
    "\n",
    "# Create object of the Porter Stemmer Class\n",
    "stemmer = PorterStemmer()\n",
    "\n",
    "# Stem each word in the list of words\n",
    "stemmed_words = [stemmer.stem(word) for word in example_words]\n",
    "\n",
    "print(\"Stemmed words: \", stemmed_words)"
   ]
  },
  {
   "cell_type": "code",
   "execution_count": 4,
   "metadata": {},
   "outputs": [
    {
     "name": "stdout",
     "output_type": "stream",
     "text": [
      "Shape of X with n-grams:  (100, 25111)\n",
      "Features from index 100 to 110:  ['ac uk mani' 'academ comput' 'academ comput john' 'acceler chipset'\n",
      " 'acceler chipset isa' 'acceler went' 'acceler went back'\n",
      " 'accept argument' 'accept argument govern' 'accept notion'\n",
      " 'accept notion time']\n"
     ]
    }
   ],
   "source": [
    "# Import necessary libraries\n",
    "from sklearn.datasets import fetch_20newsgroups\n",
    "from sklearn.feature_extraction.text import CountVectorizer\n",
    "from nltk.corpus import stopwords\n",
    "from nltk.tokenize import word_tokenize\n",
    "from nltk.stem import PorterStemmer\n",
    "import re\n",
    "\n",
    "# Load stop words from NLTK and initialize a stemmer\n",
    "stop_words = set(stopwords.words(\"english\"))\n",
    "stemmer = PorterStemmer()\n",
    "\n",
    "# Define function for text cleaning and stemming\n",
    "def clean_text(text):\n",
    "    text = text.lower()  # Convert text to lower case\n",
    "    text = re.sub(r'\\S*@\\S*\\s?', '', text)  # Remove email addresses\n",
    "    text = re.sub(r'http\\S+', '', text)  # Remove URLs\n",
    "    text = re.sub(r'\\W', ' ', text)  # Remove punctuation and special characters\n",
    "    text = re.sub(r'\\d', ' ', text)  # Remove digits\n",
    "    text = re.sub(r'\\s\\s+', ' ', text)  # Remove extra spaces\n",
    "\n",
    "    tokenized_text = word_tokenize(text)\n",
    "    filtered_text = [stemmer.stem(word) for word in tokenized_text if not word in stop_words]\n",
    "\n",
    "    return \" \".join(filtered_text)\n",
    "\n",
    "# Fetching 20 newsgroups dataset and restricting to first 100 records for performance\n",
    "newsgroups_data = fetch_20newsgroups(subset='all')['data'][:100]\n",
    "\n",
    "# Clean and preprocess the newsgroup data\n",
    "cleaned_data = [clean_text(data) for data in newsgroups_data]\n",
    "\n",
    "# Setup the CountVectorizer to generate unigrams, bigrams, and trigrams\n",
    "vectorizer = CountVectorizer(ngram_range=(2, 3)) \n",
    "\n",
    "# Apply the CountVectorizer on the cleaned data to create n-grams\n",
    "X = vectorizer.fit_transform(cleaned_data)\n",
    "\n",
    "# Display the shape of X and some features\n",
    "print(\"Shape of X with n-grams: \", X.shape)\n",
    "features = vectorizer.get_feature_names_out()\n",
    "print(\"Features from index 100 to 110: \", features[100:111])"
   ]
  },
  {
   "cell_type": "code",
   "execution_count": 5,
   "metadata": {},
   "outputs": [
    {
     "name": "stdout",
     "output_type": "stream",
     "text": [
      "Shape of X with n-grams:  (1, 5)\n",
      "Features:  ['data science' 'love studying' 'love studying data' 'studying data'\n",
      " 'studying data science']\n"
     ]
    }
   ],
   "source": [
    "# Import necessary libraries\n",
    "from sklearn.feature_extraction.text import CountVectorizer\n",
    "\n",
    "# Simple short text\n",
    "text = \"I love studying data science\"\n",
    "\n",
    "# Setup the CountVectorizer to generate bigrams and trigrams\n",
    "vectorizer = CountVectorizer(ngram_range=(2, 3)) \n",
    "\n",
    "# Apply the CountVectorizer on the text to create n-grams\n",
    "X = vectorizer.fit_transform([text])\n",
    "\n",
    "# Display the shape of X and some features\n",
    "print(\"Shape of X with n-grams: \", X.shape)\n",
    "features = vectorizer.get_feature_names_out()\n",
    "print(\"Features: \", features)"
   ]
  },
  {
   "cell_type": "code",
   "execution_count": 21,
   "metadata": {},
   "outputs": [
    {
     "name": "stdout",
     "output_type": "stream",
     "text": [
      "Shape of X with n-grams:  (2, 5)\n",
      "Features:  ['algorithm' 'data' 'love' 'passion' 'science']\n",
      "Matrix X:  [[0 2 1 1 1]\n",
      " [1 1 1 1 1]]\n"
     ]
    }
   ],
   "source": [
    "# Import necessary libraries\n",
    "from sklearn.feature_extraction.text import CountVectorizer\n",
    "import numpy as np\n",
    "\n",
    "# Define two simple short texts\n",
    "text1 = \"data love data science passion\"\n",
    "text2 = \"science love algorithm data passion\"\n",
    "\n",
    "# Setup the CountVectorizer to generate unigrams only\n",
    "vectorizer = CountVectorizer(ngram_range=(1, 1))\n",
    "\n",
    "# Apply the CountVectorizer on the text to create n-grams\n",
    "X = vectorizer.fit_transform([text1, text2])\n",
    "\n",
    "# Display the shape of X and some features\n",
    "print(\"Shape of X with n-grams: \", X.shape)\n",
    "features = vectorizer.get_feature_names_out()\n",
    "print(\"Features: \", np.sort(features))\n",
    "print(\"Matrix X: \", X.toarray())"
   ]
  },
  {
   "cell_type": "code",
   "execution_count": 7,
   "metadata": {},
   "outputs": [
    {
     "name": "stdout",
     "output_type": "stream",
     "text": [
      "Shape of X with n-grams:  (4, 19)\n",
      "Features:  ['algorithm' 'algorithm fascin' 'data' 'data algorithm' 'data scienc'\n",
      " 'fascin' 'field' 'field passion' 'joy' 'joy work' 'love' 'love studi'\n",
      " 'passion' 'scienc' 'scienc field' 'studi' 'studi data' 'work' 'work data']\n",
      "Matrix X:  [[0 0 1 0 1 0 0 0 0 0 1 1 0 1 0 1 1 0 0]\n",
      " [0 0 0 0 0 0 1 1 0 0 0 0 1 1 1 0 0 0 0]\n",
      " [1 1 0 0 0 1 0 0 0 0 0 0 0 0 0 0 0 0 0]\n",
      " [1 0 1 1 0 0 0 0 1 1 0 0 0 0 0 0 0 1 1]]\n"
     ]
    }
   ],
   "source": [
    "# Import necessary libraries\n",
    "from sklearn.feature_extraction.text import CountVectorizer\n",
    "from nltk.corpus import stopwords\n",
    "from nltk.tokenize import word_tokenize\n",
    "from nltk.stem import PorterStemmer\n",
    "import re\n",
    "\n",
    "# Load stop words from NLTK and initialize a stemmer\n",
    "stop_words = set(stopwords.words(\"english\"))\n",
    "stemmer = PorterStemmer()\n",
    "\n",
    "# Define function for text cleaning and stemming\n",
    "def clean_text(text):\n",
    "    text = text.lower()  # Convert text to lower case\n",
    "    text = re.sub(r'\\S*@\\S*\\s?', '', text)  # Remove email addresses\n",
    "    text = re.sub(r'http\\S+', '', text)  # Remove URLs\n",
    "    text = re.sub(r'\\W', ' ', text)  # Remove punctuation and special characters\n",
    "    text = re.sub(r'\\d', ' ', text)  # Remove digits\n",
    "    text = re.sub(r'\\s\\s+', ' ', text)  # Remove extra spaces\n",
    "\n",
    "    tokenized_text = word_tokenize(text)\n",
    "    filtered_text = [stemmer.stem(word) for word in tokenized_text if not word in stop_words]\n",
    "\n",
    "    return \" \".join(filtered_text)\n",
    "\n",
    "# Simple short sentences\n",
    "text1 = \"I love studying data science\"\n",
    "text2 = \"Science is a field I am passionate about\"\n",
    "text3 = \"Algorithms fascinate me\"\n",
    "text4 = \"It is a joy to work on data algorithms\"\n",
    "\n",
    "# Clean and preprocess the text\n",
    "cleaned_text_1 = clean_text(text1)\n",
    "cleaned_text_2 = clean_text(text2)\n",
    "cleaned_text_3 = clean_text(text3)\n",
    "cleaned_text_4 = clean_text(text4)\n",
    "\n",
    "# TODO: Setup the CountVectorizer to generate bigrams only\n",
    "vectorizer = CountVectorizer(ngram_range=(2,2))\n",
    "# TODO: Apply the CountVectorizer on the cleaned data to create n-grams\n",
    "X = vectorizer.fit_transform([cleaned_text_1,cleaned_text_2,cleaned_text_3,cleaned_text_4])\n",
    "# Display the shape of X and some features\n",
    "print(\"Shape of X with n-grams: \", X.shape)\n",
    "features = vectorizer.get_feature_names_out()\n",
    "print(\"Features: \", features)\n",
    "print(\"Matrix X: \", X.toarray())"
   ]
  },
  {
   "cell_type": "code",
   "execution_count": 23,
   "metadata": {},
   "outputs": [
    {
     "name": "stdout",
     "output_type": "stream",
     "text": [
      "Features:  ['zero guess' 'zezel' 'zezel phi' 'zod' 'zoolog' 'zoolog depart' 'zur'\n",
      " 'zur realisierung' 'zurich' 'zurich ch']\n",
      "The total number of features 16246\n"
     ]
    }
   ],
   "source": [
    "# Import necessary libraries\n",
    "from sklearn.feature_extraction.text import CountVectorizer\n",
    "from sklearn.datasets import fetch_20newsgroups\n",
    "from nltk.corpus import stopwords\n",
    "from nltk.tokenize import word_tokenize\n",
    "from nltk.stem import PorterStemmer\n",
    "import re\n",
    "import numpy as np\n",
    "\n",
    "# Load stop words from NLTK and initialize a stemmer\n",
    "stop_words = set(stopwords.words(\"english\"))\n",
    "stemmer = PorterStemmer()\n",
    "\n",
    "# Define function for text cleaning and stemming\n",
    "def clean_text(text):\n",
    "    text = text.lower()  # Convert text to lower case\n",
    "    text = re.sub(r'\\S*@\\S*\\s?', '', text)  # Remove email addresses\n",
    "    text = re.sub(r'http\\S+', '', text)  # Remove URLs\n",
    "    text = re.sub(r'\\W', ' ', text)  # Remove punctuation and special characters\n",
    "    text = re.sub(r'\\d', ' ', text)  # Remove digits\n",
    "    text = re.sub(r'\\s\\s+', ' ', text)  # Remove extra spaces\n",
    "\n",
    "    tokenized_text = word_tokenize(text)\n",
    "    filtered_text = [stemmer.stem(word) for word in tokenized_text if not word in stop_words]\n",
    "\n",
    "    return \" \".join(filtered_text)\n",
    "\n",
    "# TODO: Fetch the 20 Newsgroups dataset\n",
    "newsgroups_data = fetch_20newsgroups(subset='all')\n",
    "# TODO: For performance consideration, limit to the first 100 documents\n",
    "newsgroups_data = newsgroups_data['data'][:100]\n",
    "# TODO: Clean and preprocess the Newsgroup data\n",
    "cleaned_data = [clean_text(data) for data in newsgroups_data]\n",
    "# TODO: Setup the CountVectorizer to generate both unigrams and bigrams\n",
    "vectorizer = CountVectorizer(ngram_range=(1,2))\n",
    "# TODO: Apply the CountVectorizer on the cleaned data to create n-grams\n",
    "X = vectorizer.fit_transform(cleaned_data)\n",
    "# TODO: Display the number of documents, the total number of features, and the last 10 features sorted alphabetically\n",
    "features = vectorizer.get_feature_names_out()\n",
    "print(\"Features: \", np.sort(features[-10:]))\n",
    "print(\"The total number of features\", len(features))"
   ]
  },
  {
   "cell_type": "code",
   "execution_count": null,
   "metadata": {},
   "outputs": [],
   "source": []
  }
 ],
 "metadata": {
  "kernelspec": {
   "display_name": "base",
   "language": "python",
   "name": "python3"
  },
  "language_info": {
   "codemirror_mode": {
    "name": "ipython",
    "version": 3
   },
   "file_extension": ".py",
   "mimetype": "text/x-python",
   "name": "python",
   "nbconvert_exporter": "python",
   "pygments_lexer": "ipython3",
   "version": "3.11.7"
  }
 },
 "nbformat": 4,
 "nbformat_minor": 2
}
