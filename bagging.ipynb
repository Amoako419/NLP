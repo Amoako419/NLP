{
 "cells": [
  {
   "cell_type": "code",
   "execution_count": 2,
   "metadata": {},
   "outputs": [
    {
     "name": "stderr",
     "output_type": "stream",
     "text": [
      "[nltk_data] Downloading package reuters to\n",
      "[nltk_data]     /Users/amoakoheskey/nltk_data...\n"
     ]
    },
    {
     "data": {
      "text/plain": [
       "True"
      ]
     },
     "execution_count": 2,
     "metadata": {},
     "output_type": "execute_result"
    }
   ],
   "source": [
    "import nltk\n",
    "nltk.download('reuters')"
   ]
  },
  {
   "cell_type": "code",
   "execution_count": 3,
   "metadata": {},
   "outputs": [
    {
     "name": "stdout",
     "output_type": "stream",
     "text": [
      "Total Categories: 90\n",
      "Total Documents: 10788\n",
      "Document with more than 2 Categories: test/14840\n",
      "Categories: ['coffee', 'lumber', 'palm-oil', 'rubber', 'veg-oil']\n",
      "Raw Document:\n",
      " INDONESIAN COMMODITY EXCHANGE MAY EXPAND\n",
      "  The Indonesian Commodity Exchange is\n",
      "  likely to start trading in at least one new commodity, and\n",
      "  possibly two, during calendar 1987, exchange chairman Paian\n",
      "  Nainggolan said.\n",
      "      He told Reuters in a telephone interview that trading in\n",
      "  palm oil, sawn timber, pepper or tobacco was being considered.\n",
      "      Trading in either crude palm oil (CPO) or refined palm oil\n",
      "  may also be introduced. But he said the question was still\n",
      "  being considered by Trade Minister Rachmat Saleh and no\n",
      "  decision on when to go ahead had been made.\n",
      "      The fledgling exchange currently trades coffee and rubber\n",
      "  physicals on an open outcry system four days a week.\n",
      "      \"Several factors make us move cautiously,\" Nainggolan said.\n",
      "  \"We want to move slowly and safely so that we do not make a\n",
      "  mistake and undermine confidence in the exchange.\"\n",
      "      Physical rubber trading was launched in 1985, with coffee\n",
      "  added in January 1986. Rubber contracts are traded FOB, up to\n",
      "  five months forward. Robusta coffee grades four and five are\n",
      "  traded for prompt delivery and up to five months forward,\n",
      "  exchange officials said.\n",
      "      The trade ministry and exchange board are considering the\n",
      "  introduction of futures trading later for rubber, but one\n",
      "  official said a feasibility study was needed first. No\n",
      "  decisions are likely until after Indonesia's elections on April\n",
      "  23, traders said.\n",
      "      Trade Minister Saleh said on Monday that Indonesia, as the\n",
      "  world's second largest producer of natural rubber, should\n",
      "  expand its rubber marketing effort and he hoped development of\n",
      "  the exchange would help this.\n",
      "      Nainggolan said that the exchange was trying to boost\n",
      "  overseas interest by building up contacts with end-users.\n",
      "      He said teams had already been to South Korea and Taiwan to\n",
      "  encourage direct use of the exchange, while a delegation would\n",
      "  also visit Europe, Mexico and some Latin American states to\n",
      "  encourage participation.\n",
      "      Officials say the infant exchange has made a good start\n",
      "  although trading in coffee has been disappointing.\n",
      "      Transactions in rubber between the start of trading in\n",
      "  April 1985 and December 1986 totalled 9,595 tonnes, worth 6.9\n",
      "  mln dlrs FOB, plus 184.3 mln rupiah for rubber delivered\n",
      "  locally, the latest exchange report said.\n",
      "       Trading in coffee in calendar 1986 amounted to only 1,905\n",
      "  tonnes in 381 lots, valued at 6.87 billion rupiah.\n",
      "       Total membership of the exchange is now nine brokers and\n",
      "  44 traders.\n",
      "  \n",
      "\n",
      "\n",
      "Words:\n",
      " INDONESIAN COMMODITY EXCHANGE MAY EXPAND The Indonesian Commodity Exchange is likely to start trading in at least one new commodity , and possibly two , during calendar 1987 , exchange chairman Paian Nainggolan said . He told Reuters in a telephone interview that trading in palm oil , sawn timber , pepper or tobacco was being considered . Trading in either crude palm oil ( CPO ) or refined palm oil may also be introduced . But he said the question was still being considered by Trade Minister Rachmat Saleh and no decision on when to go ahead had been made . The fledgling exchange currently trades coffee and rubber physicals on an open outcry system four days a week . \" Several factors make us move cautiously ,\" Nainggolan said . \" We want to move slowly and safely so that we do not make a mistake and undermine confidence in the exchange .\" Physical rubber trading was launched in 1985 , with coffee added in January 1986 . Rubber contracts are traded FOB , up to five months forward . Robusta coffee grades four and five are traded for prompt delivery and up to five months forward , exchange officials said . The trade ministry and exchange board are considering the introduction of futures trading later for rubber , but one official said a feasibility study was needed first . No decisions are likely until after Indonesia ' s elections on April 23 , traders said . Trade Minister Saleh said on Monday that Indonesia , as the world ' s second largest producer of natural rubber , should expand its rubber marketing effort and he hoped development of the exchange would help this . Nainggolan said that the exchange was trying to boost overseas interest by building up contacts with end - users . He said teams had already been to South Korea and Taiwan to encourage direct use of the exchange , while a delegation would also visit Europe , Mexico and some Latin American states to encourage participation . Officials say the infant exchange has made a good start although trading in coffee has been disappointing . Transactions in rubber between the start of trading in April 1985 and December 1986 totalled 9 , 595 tonnes , worth 6 . 9 mln dlrs FOB , plus 184 . 3 mln rupiah for rubber delivered locally , the latest exchange report said . Trading in coffee in calendar 1986 amounted to only 1 , 905 tonnes in 381 lots , valued at 6 . 87 billion rupiah . Total membership of the exchange is now nine brokers and 44 traders .\n"
     ]
    }
   ],
   "source": [
    "import nltk\n",
    "from nltk.corpus import reuters\n",
    "\n",
    "categories = reuters.categories()\n",
    "documents = reuters.fileids(categories)\n",
    "\n",
    "print(\"Total Categories:\", len(categories))\n",
    "print(\"Total Documents:\", len(documents))\n",
    "\n",
    "multi_cat_docs = [doc for doc in documents if len(reuters.categories(doc)) > 2]\n",
    "\n",
    "doc_id = multi_cat_docs[1]\n",
    "\n",
    "print(f\"Document with more than 2 Categories: {doc_id}\")\n",
    "print(\"Categories:\", reuters.categories(doc_id))\n",
    "print(\"Raw Document:\\n\", reuters.raw(doc_id))\n",
    "print(\"Words:\\n\", \" \".join(reuters.words(doc_id)))"
   ]
  },
  {
   "cell_type": "code",
   "execution_count": 4,
   "metadata": {},
   "outputs": [
    {
     "name": "stdout",
     "output_type": "stream",
     "text": [
      "Total Categories: 90\n",
      "Total Documents: 10788\n",
      "Document with exactly 4 Categories: test/15341\n",
      "Categories: ['corn', 'grain', 'veg-oil', 'wheat']\n",
      "Words:\n",
      " USDA DISCUSSING PL 480 AGREEMENT WITH MOROCCO The U . S . Agriculture Department is currently discussing an amendment to a PL 480 agreement signed with Morocco on January 22 , but the mix of commodities under the amendment has not been determined , a U . S . Agriculture Department official said . The official noted the agreement signed in January provided for the supply of about 55 , 000 tonnes of vegetable oil , 55 , 000 tonnes of corn and 126 , 000 tonnes of wheat , all for delivery during the current fiscal year , ending this September 30 . No purchase authorizations for the commodities provided in the January agreement have been announced by the department .\n"
     ]
    }
   ],
   "source": [
    "import nltk\n",
    "from nltk.corpus import reuters\n",
    "\n",
    "categories = reuters.categories()\n",
    "documents = reuters.fileids(categories)\n",
    "\n",
    "print(f\"Total Categories: {len(categories)}\")\n",
    "print(f\"Total Documents: {len(documents)}\")\n",
    "\n",
    "multi_cat_docs = [doc for doc in documents if len(reuters.categories(doc)) == 4]\n",
    "\n",
    "doc_id = multi_cat_docs[2]\n",
    "\n",
    "print(f\"Document with exactly 4 Categories: {doc_id}\")\n",
    "print(\"Categories:\", reuters.categories(doc_id))\n",
    "print(\"Words:\\n\", \" \".join(reuters.words(doc_id)))"
   ]
  }
 ],
 "metadata": {
  "kernelspec": {
   "display_name": "base",
   "language": "python",
   "name": "python3"
  },
  "language_info": {
   "codemirror_mode": {
    "name": "ipython",
    "version": 3
   },
   "file_extension": ".py",
   "mimetype": "text/x-python",
   "name": "python",
   "nbconvert_exporter": "python",
   "pygments_lexer": "ipython3",
   "version": "3.11.7"
  }
 },
 "nbformat": 4,
 "nbformat_minor": 2
}
