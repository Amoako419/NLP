{
 "cells": [
  {
   "cell_type": "code",
   "execution_count": 2,
   "metadata": {},
   "outputs": [
    {
     "name": "stderr",
     "output_type": "stream",
     "text": [
      "[nltk_data] Downloading package reuters to\n",
      "[nltk_data]     /Users/amoakoheskey/nltk_data...\n"
     ]
    },
    {
     "data": {
      "text/plain": [
       "True"
      ]
     },
     "execution_count": 2,
     "metadata": {},
     "output_type": "execute_result"
    }
   ],
   "source": [
    "import nltk\n",
    "nltk.download('reuters')"
   ]
  },
  {
   "cell_type": "code",
   "execution_count": 3,
   "metadata": {},
   "outputs": [
    {
     "name": "stdout",
     "output_type": "stream",
     "text": [
      "Total Categories: 90\n",
      "Total Documents: 10788\n",
      "Document with more than 2 Categories: test/14840\n",
      "Categories: ['coffee', 'lumber', 'palm-oil', 'rubber', 'veg-oil']\n",
      "Raw Document:\n",
      " INDONESIAN COMMODITY EXCHANGE MAY EXPAND\n",
      "  The Indonesian Commodity Exchange is\n",
      "  likely to start trading in at least one new commodity, and\n",
      "  possibly two, during calendar 1987, exchange chairman Paian\n",
      "  Nainggolan said.\n",
      "      He told Reuters in a telephone interview that trading in\n",
      "  palm oil, sawn timber, pepper or tobacco was being considered.\n",
      "      Trading in either crude palm oil (CPO) or refined palm oil\n",
      "  may also be introduced. But he said the question was still\n",
      "  being considered by Trade Minister Rachmat Saleh and no\n",
      "  decision on when to go ahead had been made.\n",
      "      The fledgling exchange currently trades coffee and rubber\n",
      "  physicals on an open outcry system four days a week.\n",
      "      \"Several factors make us move cautiously,\" Nainggolan said.\n",
      "  \"We want to move slowly and safely so that we do not make a\n",
      "  mistake and undermine confidence in the exchange.\"\n",
      "      Physical rubber trading was launched in 1985, with coffee\n",
      "  added in January 1986. Rubber contracts are traded FOB, up to\n",
      "  five months forward. Robusta coffee grades four and five are\n",
      "  traded for prompt delivery and up to five months forward,\n",
      "  exchange officials said.\n",
      "      The trade ministry and exchange board are considering the\n",
      "  introduction of futures trading later for rubber, but one\n",
      "  official said a feasibility study was needed first. No\n",
      "  decisions are likely until after Indonesia's elections on April\n",
      "  23, traders said.\n",
      "      Trade Minister Saleh said on Monday that Indonesia, as the\n",
      "  world's second largest producer of natural rubber, should\n",
      "  expand its rubber marketing effort and he hoped development of\n",
      "  the exchange would help this.\n",
      "      Nainggolan said that the exchange was trying to boost\n",
      "  overseas interest by building up contacts with end-users.\n",
      "      He said teams had already been to South Korea and Taiwan to\n",
      "  encourage direct use of the exchange, while a delegation would\n",
      "  also visit Europe, Mexico and some Latin American states to\n",
      "  encourage participation.\n",
      "      Officials say the infant exchange has made a good start\n",
      "  although trading in coffee has been disappointing.\n",
      "      Transactions in rubber between the start of trading in\n",
      "  April 1985 and December 1986 totalled 9,595 tonnes, worth 6.9\n",
      "  mln dlrs FOB, plus 184.3 mln rupiah for rubber delivered\n",
      "  locally, the latest exchange report said.\n",
      "       Trading in coffee in calendar 1986 amounted to only 1,905\n",
      "  tonnes in 381 lots, valued at 6.87 billion rupiah.\n",
      "       Total membership of the exchange is now nine brokers and\n",
      "  44 traders.\n",
      "  \n",
      "\n",
      "\n",
      "Words:\n",
      " INDONESIAN COMMODITY EXCHANGE MAY EXPAND The Indonesian Commodity Exchange is likely to start trading in at least one new commodity , and possibly two , during calendar 1987 , exchange chairman Paian Nainggolan said . He told Reuters in a telephone interview that trading in palm oil , sawn timber , pepper or tobacco was being considered . Trading in either crude palm oil ( CPO ) or refined palm oil may also be introduced . But he said the question was still being considered by Trade Minister Rachmat Saleh and no decision on when to go ahead had been made . The fledgling exchange currently trades coffee and rubber physicals on an open outcry system four days a week . \" Several factors make us move cautiously ,\" Nainggolan said . \" We want to move slowly and safely so that we do not make a mistake and undermine confidence in the exchange .\" Physical rubber trading was launched in 1985 , with coffee added in January 1986 . Rubber contracts are traded FOB , up to five months forward . Robusta coffee grades four and five are traded for prompt delivery and up to five months forward , exchange officials said . The trade ministry and exchange board are considering the introduction of futures trading later for rubber , but one official said a feasibility study was needed first . No decisions are likely until after Indonesia ' s elections on April 23 , traders said . Trade Minister Saleh said on Monday that Indonesia , as the world ' s second largest producer of natural rubber , should expand its rubber marketing effort and he hoped development of the exchange would help this . Nainggolan said that the exchange was trying to boost overseas interest by building up contacts with end - users . He said teams had already been to South Korea and Taiwan to encourage direct use of the exchange , while a delegation would also visit Europe , Mexico and some Latin American states to encourage participation . Officials say the infant exchange has made a good start although trading in coffee has been disappointing . Transactions in rubber between the start of trading in April 1985 and December 1986 totalled 9 , 595 tonnes , worth 6 . 9 mln dlrs FOB , plus 184 . 3 mln rupiah for rubber delivered locally , the latest exchange report said . Trading in coffee in calendar 1986 amounted to only 1 , 905 tonnes in 381 lots , valued at 6 . 87 billion rupiah . Total membership of the exchange is now nine brokers and 44 traders .\n"
     ]
    }
   ],
   "source": [
    "import nltk\n",
    "from nltk.corpus import reuters\n",
    "\n",
    "categories = reuters.categories()\n",
    "documents = reuters.fileids(categories)\n",
    "\n",
    "print(\"Total Categories:\", len(categories))\n",
    "print(\"Total Documents:\", len(documents))\n",
    "\n",
    "multi_cat_docs = [doc for doc in documents if len(reuters.categories(doc)) > 2]\n",
    "\n",
    "doc_id = multi_cat_docs[1]\n",
    "\n",
    "print(f\"Document with more than 2 Categories: {doc_id}\")\n",
    "print(\"Categories:\", reuters.categories(doc_id))\n",
    "print(\"Raw Document:\\n\", reuters.raw(doc_id))\n",
    "print(\"Words:\\n\", \" \".join(reuters.words(doc_id)))"
   ]
  },
  {
   "cell_type": "code",
   "execution_count": 4,
   "metadata": {},
   "outputs": [
    {
     "name": "stdout",
     "output_type": "stream",
     "text": [
      "Total Categories: 90\n",
      "Total Documents: 10788\n",
      "Document with exactly 4 Categories: test/15341\n",
      "Categories: ['corn', 'grain', 'veg-oil', 'wheat']\n",
      "Words:\n",
      " USDA DISCUSSING PL 480 AGREEMENT WITH MOROCCO The U . S . Agriculture Department is currently discussing an amendment to a PL 480 agreement signed with Morocco on January 22 , but the mix of commodities under the amendment has not been determined , a U . S . Agriculture Department official said . The official noted the agreement signed in January provided for the supply of about 55 , 000 tonnes of vegetable oil , 55 , 000 tonnes of corn and 126 , 000 tonnes of wheat , all for delivery during the current fiscal year , ending this September 30 . No purchase authorizations for the commodities provided in the January agreement have been announced by the department .\n"
     ]
    }
   ],
   "source": [
    "import nltk\n",
    "from nltk.corpus import reuters\n",
    "\n",
    "categories = reuters.categories()\n",
    "documents = reuters.fileids(categories)\n",
    "\n",
    "print(f\"Total Categories: {len(categories)}\")\n",
    "print(f\"Total Documents: {len(documents)}\")\n",
    "\n",
    "multi_cat_docs = [doc for doc in documents if len(reuters.categories(doc)) == 4]\n",
    "\n",
    "doc_id = multi_cat_docs[2]\n",
    "\n",
    "print(f\"Document with exactly 4 Categories: {doc_id}\")\n",
    "print(\"Categories:\", reuters.categories(doc_id))\n",
    "print(\"Words:\\n\", \" \".join(reuters.words(doc_id)))"
   ]
  },
  {
   "cell_type": "code",
   "execution_count": 1,
   "metadata": {},
   "outputs": [
    {
     "name": "stdout",
     "output_type": "stream",
     "text": [
      "First 10 y_test values: [0 0 0 0 0 0 4 0 0 0]\n",
      "First 10 y_pred values: [0 0 0 0 0 0 1 0 0 0]\n",
      "              precision    recall  f1-score   support\n",
      "\n",
      "           0       0.99      0.99      0.99       601\n",
      "           1       0.82      0.93      0.87        15\n",
      "           2       1.00      1.00      1.00        12\n",
      "           3       0.91      0.95      0.93        22\n",
      "           4       0.90      0.75      0.82        12\n",
      "\n",
      "    accuracy                           0.99       662\n",
      "   macro avg       0.93      0.93      0.92       662\n",
      "weighted avg       0.99      0.99      0.99       662\n",
      "\n"
     ]
    }
   ],
   "source": [
    "import nltk\n",
    "from nltk.corpus import reuters\n",
    "from sklearn.feature_extraction.text import CountVectorizer\n",
    "from sklearn.ensemble import BaggingClassifier\n",
    "from sklearn.tree import DecisionTreeClassifier\n",
    "from sklearn.preprocessing import LabelEncoder\n",
    "from sklearn.model_selection import train_test_split\n",
    "from sklearn.metrics import classification_report\n",
    "\n",
    "categories = reuters.categories()[:5]\n",
    "documents = reuters.fileids(categories)\n",
    "\n",
    "text_data = [\" \".join([word for word in reuters.words(fileid)]) for fileid in documents]\n",
    "categories_data = [reuters.categories(fileid)[0] for fileid in documents]\n",
    "\n",
    "# Using count vectorizer for feature extraction\n",
    "count_vectorizer = CountVectorizer(max_features=1000)\n",
    "X = count_vectorizer.fit_transform(text_data)\n",
    "y = LabelEncoder().fit_transform(categories_data)\n",
    "\n",
    "# Split the data for train and test\n",
    "X_train, X_test, y_train, y_test = train_test_split(X, y, random_state=1)\n",
    "\n",
    "# Using BaggingClassifier with DecisionTrees\n",
    "bag_classifier = BaggingClassifier(DecisionTreeClassifier(), n_estimators=100, random_state=1)\n",
    "bag_classifier.fit(X_train.toarray(), y_train)\n",
    "\n",
    "# Checking the performance of the model on test data\n",
    "y_pred = bag_classifier.predict(X_test.toarray())\n",
    "\n",
    "# Printing the first 10 values of y_test and y_pred before the classification report\n",
    "print(f\"First 10 y_test values: {y_test[:10]}\")\n",
    "print(f\"First 10 y_pred values: {y_pred[:10]}\")\n",
    "\n",
    "print(classification_report(y_test, y_pred, zero_division=1))"
   ]
  },
  {
   "cell_type": "code",
   "execution_count": 2,
   "metadata": {},
   "outputs": [
    {
     "name": "stderr",
     "output_type": "stream",
     "text": [
      "/opt/anaconda3/lib/python3.11/site-packages/sklearn/ensemble/_base.py:166: FutureWarning: `base_estimator` was renamed to `estimator` in version 1.2 and will be removed in 1.4.\n",
      "  warnings.warn(\n"
     ]
    },
    {
     "name": "stdout",
     "output_type": "stream",
     "text": [
      "              precision    recall  f1-score   support\n",
      "\n",
      "           0       0.98      1.00      0.99       601\n",
      "           1       0.80      0.80      0.80        15\n",
      "           2       1.00      0.83      0.91        12\n",
      "           3       0.95      0.91      0.93        22\n",
      "           4       1.00      0.67      0.80        12\n",
      "\n",
      "    accuracy                           0.98       662\n",
      "   macro avg       0.95      0.84      0.89       662\n",
      "weighted avg       0.98      0.98      0.98       662\n",
      "\n"
     ]
    }
   ],
   "source": [
    "import nltk\n",
    "from nltk.corpus import reuters\n",
    "from sklearn.feature_extraction.text import CountVectorizer\n",
    "from sklearn.ensemble import BaggingClassifier\n",
    "from sklearn.tree import DecisionTreeClassifier\n",
    "from sklearn.preprocessing import LabelEncoder\n",
    "from sklearn.model_selection import train_test_split\n",
    "from sklearn.metrics import classification_report\n",
    "\n",
    "# Load the Reuters dataset but only consider the first 5 categories.\n",
    "categories = reuters.categories()[:5]  # Select the first 5 categories\n",
    "documents = reuters.fileids(categories)\n",
    "\n",
    "text_data = [\" \".join([word for word in reuters.words(fileid)]) for fileid in documents]\n",
    "categories_data = [reuters.categories(fileid)[0] for fileid in documents]\n",
    "\n",
    "# Using count vectorizer for feature extraction\n",
    "count_vectorizer = CountVectorizer(max_features=1000)\n",
    "X = count_vectorizer.fit_transform(text_data)\n",
    "y = LabelEncoder().fit_transform(categories_data)\n",
    "\n",
    "# Split the data for train and test\n",
    "X_train, X_test, y_train, y_test = train_test_split(X, y, random_state=1)\n",
    "\n",
    "# Initialize the Bagging Classifier with a Decision Tree Classifier\n",
    "# with a specific number of estimators and a given seed.\n",
    "bag_classifier = BaggingClassifier(\n",
    "    base_estimator=DecisionTreeClassifier(max_depth=5), n_estimators=100, random_state=42\n",
    ")\n",
    "\n",
    "bag_classifier.fit(X_train.toarray(), y_train)\n",
    "\n",
    "# Check the performance of the model on test data\n",
    "y_pred = bag_classifier.predict(X_test.toarray())\n",
    "print(classification_report(y_test, y_pred, zero_division=1))\n"
   ]
  }
 ],
 "metadata": {
  "kernelspec": {
   "display_name": "base",
   "language": "python",
   "name": "python3"
  },
  "language_info": {
   "codemirror_mode": {
    "name": "ipython",
    "version": 3
   },
   "file_extension": ".py",
   "mimetype": "text/x-python",
   "name": "python",
   "nbconvert_exporter": "python",
   "pygments_lexer": "ipython3",
   "version": "3.11.7"
  }
 },
 "nbformat": 4,
 "nbformat_minor": 2
}
