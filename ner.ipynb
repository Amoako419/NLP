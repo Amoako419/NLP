{
 "cells": [
  {
   "cell_type": "code",
   "execution_count": 4,
   "metadata": {},
   "outputs": [
    {
     "name": "stdout",
     "output_type": "stream",
     "text": [
      "showing info https://raw.githubusercontent.com/nltk/nltk_data/gh-pages/index.xml\n"
     ]
    },
    {
     "data": {
      "text/plain": [
       "True"
      ]
     },
     "execution_count": 4,
     "metadata": {},
     "output_type": "execute_result"
    }
   ],
   "source": [
    "import nltk\n",
    "nltk.download()"
   ]
  },
  {
   "cell_type": "code",
   "execution_count": 1,
   "metadata": {},
   "outputs": [
    {
     "name": "stdout",
     "output_type": "stream",
     "text": [
      "[('Microsoft', 'NNP'), ('Corporation', 'NNP'), ('aims', 'VBZ'), ('to', 'TO'), ('reach', 'VB'), ('95', 'CD'), ('global', 'JJ'), ('coverage', 'NN'), ('by', 'IN'), ('2025', 'CD')]\n"
     ]
    }
   ],
   "source": [
    "from nltk import pos_tag, word_tokenize, ne_chunk\n",
    "\n",
    "# Given sentence\n",
    "sample_sentence = \"Microsoft Corporation aims to reach 95 global coverage by 2025\"\n",
    "\n",
    "# Get tokens\n",
    "tokens = word_tokenize(sample_sentence)\n",
    "\n",
    "# Get POS tags\n",
    "pos_tags = pos_tag(tokens)\n",
    "\n",
    "# Perform NER\n",
    "named_entities = ne_chunk(pos_tags)\n",
    "\n",
    "# Print the identified named entities\n",
    "print(pos_tags)"
   ]
  },
  {
   "cell_type": "code",
   "execution_count": 4,
   "metadata": {},
   "outputs": [
    {
     "name": "stdout",
     "output_type": "stream",
     "text": [
      "[('The', 'DT'), ('quick', 'JJ'), ('brown', 'NN'), ('fox', 'NN'), ('jumps', 'VBZ'), ('over', 'IN'), ('the', 'DT'), ('lazy', 'JJ'), ('dog', 'NN'), ('.', '.')]\n"
     ]
    }
   ],
   "source": [
    "from nltk import pos_tag, word_tokenize\n",
    "\n",
    "# Given sentence\n",
    "sample_sentence = \"The quick brown fox jumps over the lazy dog.\"\n",
    "\n",
    "# Get tokens\n",
    "tokens = word_tokenize(sample_sentence)\n",
    "\n",
    "# Get POS tags\n",
    "pos_tags = pos_tag(tokens)\n",
    "\n",
    "# Print the POS tags\n",
    "print(pos_tags)"
   ]
  },
  {
   "cell_type": "code",
   "execution_count": 6,
   "metadata": {},
   "outputs": [
    {
     "name": "stdout",
     "output_type": "stream",
     "text": [
      "(S\n",
      "  (ORGANIZATION CodeSignal/NNP)\n",
      "  is/VBZ\n",
      "  headquartered/VBN\n",
      "  in/IN\n",
      "  (GPE San/NNP Francisco/NNP)\n",
      "  ./.)\n"
     ]
    },
    {
     "ename": "",
     "evalue": "",
     "output_type": "error",
     "traceback": [
      "\u001b[1;31mThe Kernel crashed while executing code in the current cell or a previous cell. \n",
      "\u001b[1;31mPlease review the code in the cell(s) to identify a possible cause of the failure. \n",
      "\u001b[1;31mClick <a href='https://aka.ms/vscodeJupyterKernelCrash'>here</a> for more info. \n",
      "\u001b[1;31mView Jupyter <a href='command:jupyter.viewOutput'>log</a> for further details."
     ]
    }
   ],
   "source": [
    "from nltk import ne_chunk, pos_tag, word_tokenize\n",
    "\n",
    "def apply_ner(sentence):\n",
    "    # Tokenize the sentence\n",
    "    tokens = word_tokenize(sentence)\n",
    "\n",
    "    # Apply POS tagging\n",
    "    pos_tags = pos_tag(tokens)\n",
    "\n",
    "    # Apply NER\n",
    "    named_entities = ne_chunk(pos_tags)\n",
    "\n",
    "    # Return the identified named entities\n",
    "    return named_entities\n",
    "\n",
    "# Apply the function to a specific sentence\n",
    "named_entities_in_sentence = apply_ner(\"CodeSignal is headquartered in San Francisco.\")\n",
    "print(named_entities_in_sentence)"
   ]
  }
 ],
 "metadata": {
  "kernelspec": {
   "display_name": "base",
   "language": "python",
   "name": "python3"
  },
  "language_info": {
   "codemirror_mode": {
    "name": "ipython",
    "version": 3
   },
   "file_extension": ".py",
   "mimetype": "text/x-python",
   "name": "python",
   "nbconvert_exporter": "python",
   "pygments_lexer": "ipython3",
   "version": "3.11.7"
  }
 },
 "nbformat": 4,
 "nbformat_minor": 2
}
