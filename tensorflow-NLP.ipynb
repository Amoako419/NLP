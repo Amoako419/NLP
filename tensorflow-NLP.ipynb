{
 "cells": [
  {
   "cell_type": "code",
   "execution_count": 1,
   "metadata": {},
   "outputs": [
    {
     "name": "stdout",
     "output_type": "stream",
     "text": [
      "Updated word index:  {'<OOV>': 1, 'love': 2, 'is': 3, 'a': 4, 'powerful': 5, 'entity': 6, 'that': 7, 'can': 8, 'change': 9, 'the': 10, 'world': 11}\n",
      "Updated sequence:  [[2, 3, 4, 5, 6, 7, 8, 9, 1, 1]]\n"
     ]
    }
   ],
   "source": [
    "from tensorflow.keras.preprocessing.text import Tokenizer\n",
    "\n",
    "# Original sentence\n",
    "sentence = \"Love is a powerful entity that can change the world.\"\n",
    "\n",
    "tokenizer = Tokenizer(num_words=10, oov_token=\"<OOV>\")\n",
    "tokenizer.fit_on_texts([sentence])\n",
    "word_index = tokenizer.word_index\n",
    "\n",
    "# Print word index\n",
    "print(\"Updated word index: \", word_index)\n",
    "\n",
    "# Translating text to sequences\n",
    "sequence = tokenizer.texts_to_sequences([sentence])\n",
    "print(\"Updated sequence: \", sequence)"
   ]
  },
  {
   "cell_type": "code",
   "execution_count": 2,
   "metadata": {},
   "outputs": [
    {
     "name": "stdout",
     "output_type": "stream",
     "text": [
      "Sequence: [[2, 3, 4, 5, 6, 7, 2, 8, 9]]\n",
      "Word Index: {'<OOV>': 1, 'the': 2, 'quick': 3, 'brown': 4, 'fox': 5, 'jumps': 6, 'over': 7, 'lazy': 8, 'dog': 9}\n"
     ]
    }
   ],
   "source": [
    "# Import necessary libraries\n",
    "from tensorflow.keras.preprocessing.text import Tokenizer\n",
    "\n",
    "# Define text sample\n",
    "text_sample = \"The quick brown fox jumps over the lazy dog.\"\n",
    "\n",
    "# Define the tokenizer\n",
    "tokenizer = Tokenizer(num_words=10, oov_token=\"<OOV>\")\n",
    "\n",
    "# Fit the tokenizer on the text sample\n",
    "tokenizer.fit_on_texts([text_sample])\n",
    "\n",
    "# Retrieve the word index\n",
    "word_index = tokenizer.word_index\n",
    "\n",
    "# Convert the text to a sequence\n",
    "sequence = tokenizer.texts_to_sequences([text_sample])\n",
    "\n",
    "# Print the sequence and word index\n",
    "print(f\"Sequence: {sequence}\")\n",
    "print(f\"Word Index: {word_index}\")"
   ]
  },
  {
   "cell_type": "code",
   "execution_count": 3,
   "metadata": {},
   "outputs": [
    {
     "name": "stdout",
     "output_type": "stream",
     "text": [
      "Shape of X:  (2477, 2380)\n",
      "Shape of Y:  (2477,)\n"
     ]
    }
   ],
   "source": [
    "# Import necessary libraries\n",
    "import nltk\n",
    "from tensorflow.keras.preprocessing.text import Tokenizer\n",
    "from tensorflow.keras.preprocessing.sequence import pad_sequences\n",
    "from sklearn.preprocessing import LabelEncoder\n",
    "from nltk.corpus import reuters\n",
    "\n",
    "# Limiting the data for quick execution\n",
    "categories = reuters.categories()[:3]\n",
    "documents = reuters.fileids(categories)\n",
    "\n",
    "# Preparing the dataset\n",
    "text_data = [\" \".join([word for word in reuters.words(fileid)]) for fileid in documents]\n",
    "categories_data = [reuters.categories(fileid)[0] for fileid in documents]\n",
    "\n",
    "# Tokenize the text data, using TensorFlow's Tokenizer class\n",
    "tokenizer = Tokenizer(num_words=10, oov_token=\"<OOV>\")\n",
    "tokenizer.fit_on_texts(text_data)\n",
    "sequences = tokenizer.texts_to_sequences(text_data)\n",
    "\n",
    "# Padding sequences for uniform input shape\n",
    "X = pad_sequences(sequences, padding='post')\n",
    "\n",
    "# Translating categories into numerical labels\n",
    "label_encoder = LabelEncoder()\n",
    "y = label_encoder.fit_transform(categories_data)\n",
    "\n",
    "print(\"Shape of X: \", X.shape)\n",
    "print(\"Shape of Y: \", y.shape)"
   ]
  },
  {
   "cell_type": "code",
   "execution_count": 4,
   "metadata": {},
   "outputs": [
    {
     "name": "stdout",
     "output_type": "stream",
     "text": [
      "word index:  {'<OOV>': 1, 'e': 2, 's': 3, 't': 4, 'h': 5, 'k': 6, 'y': 7, 'i': 8, 'b': 9, 'l': 10, 'u': 11}\n",
      "sequence:  [[1, 1, 1, 1]]\n"
     ]
    }
   ],
   "source": [
    "from tensorflow.keras.preprocessing.text import Tokenizer\n",
    "\n",
    "text_data = \"The sky is blue\"\n",
    "\n",
    "# TODO: Initialize tokenizer with num_words and oov_token parameters\n",
    "\n",
    "# TODO: Fit tokenizer on your text data\n",
    "\n",
    "# TODO: Generate word index and print it\n",
    "\n",
    "# TODO: Convert text data into a sequence and print it\n",
    "\n",
    "tokenizer = Tokenizer(num_words=10, oov_token=\"<OOV>\")\n",
    "tokenizer.fit_on_texts(text_data)\n",
    "word_index = tokenizer.word_index\n",
    "\n",
    "# Print word index\n",
    "print(\"word index: \", word_index)\n",
    "\n",
    "# Translating text to sequences\n",
    "sequence = tokenizer.texts_to_sequences([text_data])\n",
    "print(\"sequence: \", sequence)"
   ]
  }
 ],
 "metadata": {
  "kernelspec": {
   "display_name": "base",
   "language": "python",
   "name": "python3"
  },
  "language_info": {
   "codemirror_mode": {
    "name": "ipython",
    "version": 3
   },
   "file_extension": ".py",
   "mimetype": "text/x-python",
   "name": "python",
   "nbconvert_exporter": "python",
   "pygments_lexer": "ipython3",
   "version": "3.11.7"
  }
 },
 "nbformat": 4,
 "nbformat_minor": 2
}
