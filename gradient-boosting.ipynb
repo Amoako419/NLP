{
 "cells": [
  {
   "cell_type": "code",
   "execution_count": 1,
   "metadata": {},
   "outputs": [
    {
     "name": "stdout",
     "output_type": "stream",
     "text": [
      "Accuracy:  0.989247311827957\n"
     ]
    }
   ],
   "source": [
    "import nltk\n",
    "from sklearn.ensemble import GradientBoostingClassifier\n",
    "from sklearn.feature_extraction.text import CountVectorizer\n",
    "from sklearn.preprocessing import LabelEncoder\n",
    "from sklearn.model_selection import train_test_split\n",
    "from sklearn.metrics import accuracy_score\n",
    "from nltk.corpus import reuters\n",
    "\n",
    "categories = reuters.categories()[:3]\n",
    "documents = reuters.fileids(categories)\n",
    "\n",
    "text_data = [\" \".join(reuters.words(fileid)) for fileid in documents]\n",
    "categories_data = [reuters.categories(fileid)[0] for fileid in documents]\n",
    "\n",
    "count_vectorizer = CountVectorizer(max_features=500)\n",
    "X = count_vectorizer.fit_transform(text_data)\n",
    "y = LabelEncoder().fit_transform(categories_data)\n",
    "\n",
    "X_train, X_test, y_train, y_test = train_test_split(X, y, test_size=0.3, random_state=1)\n",
    "\n",
    "gb_clf = GradientBoostingClassifier(n_estimators=150, learning_rate=0.2, max_depth=3)\n",
    "gb_clf.fit(X_train, y_train)\n",
    "y_pred = gb_clf.predict(X_test)\n",
    "\n",
    "print(\"Accuracy: \", accuracy_score(y_test, y_pred))"
   ]
  },
  {
   "cell_type": "code",
   "execution_count": 3,
   "metadata": {},
   "outputs": [
    {
     "name": "stdout",
     "output_type": "stream",
     "text": [
      "Accuracy:  0.9852150537634409\n"
     ]
    }
   ],
   "source": [
    "# import required libraries\n",
    "from sklearn.ensemble import GradientBoostingClassifier\n",
    "from sklearn.feature_extraction.text import CountVectorizer\n",
    "from sklearn.preprocessing import LabelEncoder\n",
    "from sklearn.model_selection import train_test_split\n",
    "from sklearn.metrics import accuracy_score\n",
    "from nltk.corpus import reuters\n",
    "import nltk\n",
    "\n",
    "# Limiting the data for quick execution\n",
    "categories = reuters.categories()[:3]\n",
    "documents = reuters.fileids(categories)\n",
    "\n",
    "# Preparing the dataset\n",
    "text_data = [\" \".join([word for word in reuters.words(fileid)]) for fileid in documents]\n",
    "categories_data = [reuters.categories(fileid)[0] for fileid in documents]\n",
    "\n",
    "# Using CountVectorizer for feature extraction\n",
    "count_vectorizer = CountVectorizer(max_features=500)\n",
    "X = count_vectorizer.fit_transform(text_data)\n",
    "y = LabelEncoder().fit_transform(categories_data)\n",
    "\n",
    "# Split the data for train and test\n",
    "X_train, X_test, y_train, y_test = train_test_split(X, y, test_size=0.3, random_state=1)\n",
    "\n",
    "# Instantiate the GradientBoostingClassifier\n",
    "gb_clf = GradientBoostingClassifier(n_estimators=100, learning_rate=0.1, max_depth=3) \n",
    "\n",
    "# Train the classifier\n",
    "gb_clf.fit(X_train, y_train)\n",
    "\n",
    "# Make predictions\n",
    "y_pred = gb_clf.predict(X_test)\n",
    "\n",
    "# Calculate accuracy\n",
    "print(\"Accuracy: \", accuracy_score(y_test, y_pred))"
   ]
  },
  {
   "cell_type": "code",
   "execution_count": 4,
   "metadata": {},
   "outputs": [
    {
     "name": "stdout",
     "output_type": "stream",
     "text": [
      "Accuracy:  0.9865591397849462\n"
     ]
    }
   ],
   "source": [
    "# import required libraries\n",
    "from sklearn.ensemble import GradientBoostingClassifier\n",
    "from sklearn.feature_extraction.text import CountVectorizer\n",
    "from sklearn.preprocessing import LabelEncoder\n",
    "from sklearn.model_selection import train_test_split\n",
    "from sklearn.metrics import accuracy_score\n",
    "from nltk.corpus import reuters\n",
    "import nltk\n",
    "\n",
    "categories = reuters.categories()[:3]\n",
    "documents = reuters.fileids(categories)\n",
    "text_data = [\" \".join([word for word in reuters.words(fileid)]) for fileid in documents]\n",
    "categories_data = [reuters.categories(fileid)[0] for fileid in documents]\n",
    "count_vectorizer = CountVectorizer(max_features=500)\n",
    "X = count_vectorizer.fit_transform(text_data)\n",
    "y = LabelEncoder().fit_transform(categories_data)\n",
    "X_train, X_test, y_train, y_test = train_test_split(X, y, test_size=0.3, random_state=1)\n",
    "\n",
    "# Instantiate the GradientBoostingClassifier and set max_depth\n",
    "gb_clf = GradientBoostingClassifier(n_estimators=100, learning_rate=0.1, max_depth=5)\n",
    "\n",
    "# Train the classifier\n",
    "gb_clf.fit(X_train, y_train)\n",
    "\n",
    "# Make predictions\n",
    "y_pred = gb_clf.predict(X_test)\n",
    "\n",
    "# Print accuracy\n",
    "print(\"Accuracy: \", accuracy_score(y_test, y_pred))"
   ]
  }
 ],
 "metadata": {
  "kernelspec": {
   "display_name": "base",
   "language": "python",
   "name": "python3"
  },
  "language_info": {
   "codemirror_mode": {
    "name": "ipython",
    "version": 3
   },
   "file_extension": ".py",
   "mimetype": "text/x-python",
   "name": "python",
   "nbconvert_exporter": "python",
   "pygments_lexer": "ipython3",
   "version": "3.11.7"
  }
 },
 "nbformat": 4,
 "nbformat_minor": 2
}
