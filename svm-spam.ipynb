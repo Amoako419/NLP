{
 "cells": [
  {
   "cell_type": "code",
   "execution_count": 1,
   "metadata": {},
   "outputs": [
    {
     "name": "stdout",
     "output_type": "stream",
     "text": [
      "Accuracy of Support Vector Machines Classifier with linear kernel: 0.95\n"
     ]
    }
   ],
   "source": [
    "# Import the necessary libraries\n",
    "import pandas as pd\n",
    "from sklearn.feature_extraction.text import CountVectorizer\n",
    "from sklearn import metrics\n",
    "from sklearn.svm import SVC\n",
    "from sklearn.model_selection import train_test_split\n",
    "import datasets\n",
    "\n",
    "# Load the dataset\n",
    "spam_dataset = datasets.load_dataset('codesignal/sms-spam-collection', split='train')\n",
    "spam_dataset = pd.DataFrame(spam_dataset)\n",
    "\n",
    "# Define X (input features) and Y (output labels)\n",
    "X = spam_dataset[\"message\"]\n",
    "Y = spam_dataset[\"label\"]\n",
    "\n",
    "# Perform the train test split using stratified cross-validation\n",
    "X_train, X_test, Y_train, Y_test = train_test_split(X, Y, test_size=0.2, random_state=42, stratify=Y)\n",
    "\n",
    "# Initialize the CountVectorizer\n",
    "count_vectorizer = CountVectorizer()\n",
    "\n",
    "# Fit and transform the training data \n",
    "X_train_count = count_vectorizer.fit_transform(X_train)\n",
    "\n",
    "# Transform the test data\n",
    "X_test_count = count_vectorizer.transform(X_test)\n",
    "\n",
    "# Initialize the SVC model with 'linear' kernel \n",
    "svm_model = SVC(kernel='poly')\n",
    "\n",
    "# Fit the model on the training data\n",
    "svm_model.fit(X_train_count, Y_train)\n",
    "\n",
    "# Make predictions on the test data\n",
    "y_pred = svm_model.predict(X_test_count)\n",
    "\n",
    "# Calculate the accuracy of the model\n",
    "accuracy = metrics.accuracy_score(Y_test, y_pred)\n",
    "\n",
    "# Print the accuracy\n",
    "print(f\"Accuracy of Support Vector Machines Classifier with linear kernel: {accuracy:.2f}\")"
   ]
  },
  {
   "cell_type": "code",
   "execution_count": 2,
   "metadata": {},
   "outputs": [
    {
     "name": "stdout",
     "output_type": "stream",
     "text": [
      "Accuracy of Support Vector Machines Classifier with linear kernel: 0.98\n"
     ]
    }
   ],
   "source": [
    "# Import the necessary libraries\n",
    "import pandas as pd\n",
    "from sklearn.feature_extraction.text import CountVectorizer\n",
    "from sklearn import metrics\n",
    "from sklearn.svm import SVC\n",
    "from sklearn.model_selection import train_test_split\n",
    "import datasets\n",
    "\n",
    "# Load the dataset\n",
    "spam_dataset = datasets.load_dataset('codesignal/sms-spam-collection', split='train')\n",
    "spam_dataset = pd.DataFrame(spam_dataset)\n",
    "\n",
    "# Define X (input features) and Y (output labels)\n",
    "X = spam_dataset[\"message\"]\n",
    "Y = spam_dataset[\"label\"]\n",
    "\n",
    "# Perform the train test split using stratified cross-validation\n",
    "X_train, X_test, Y_train, Y_test = train_test_split(X, Y, test_size=0.2, random_state=42, stratify=Y)\n",
    "\n",
    "# Initialize the CountVectorizer\n",
    "count_vectorizer = CountVectorizer()\n",
    "\n",
    "# Fit and transform the training data\n",
    "X_train_count = count_vectorizer.fit_transform(X_train)\n",
    "\n",
    "# Transform the test data\n",
    "X_test_count = count_vectorizer.transform(X_test)\n",
    "\n",
    "# Initialize the SVC model\n",
    "svm_model = SVC(kernel='linear')        # Initialze the SVC model with 'linear' kernel\n",
    "\n",
    "# Fit the model on the training data\n",
    "svm_model.fit(X_train_count, Y_train)   # Fit the model on the training data\n",
    "\n",
    "# Make predictions on the test data\n",
    "y_pred = svm_model.predict(X_test_count)\n",
    "\n",
    "# Calculate the accuracy of the model\n",
    "accuracy = metrics.accuracy_score(Y_test, y_pred)\n",
    "\n",
    "# Print the accuracy\n",
    "print(f\"Accuracy of Support Vector Machines Classifier with linear kernel: {accuracy:.2f}\")"
   ]
  }
 ],
 "metadata": {
  "kernelspec": {
   "display_name": "base",
   "language": "python",
   "name": "python3"
  },
  "language_info": {
   "codemirror_mode": {
    "name": "ipython",
    "version": 3
   },
   "file_extension": ".py",
   "mimetype": "text/x-python",
   "name": "python",
   "nbconvert_exporter": "python",
   "pygments_lexer": "ipython3",
   "version": "3.11.7"
  }
 },
 "nbformat": 4,
 "nbformat_minor": 2
}
